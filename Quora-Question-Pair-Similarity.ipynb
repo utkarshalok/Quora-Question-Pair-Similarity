{
 "cells": [
  {
   "cell_type": "markdown",
   "metadata": {
    "colab_type": "text",
    "id": "MRP-fAQedMTd"
   },
   "source": [
    "<h2> 3.6 Featurizing text data with tfidf weighted word-vectors </h2>"
   ]
  },
  {
   "cell_type": "code",
   "execution_count": 0,
   "metadata": {
    "colab": {},
    "colab_type": "code",
    "id": "-3IbomL8dMTi"
   },
   "outputs": [],
   "source": [
    "import pandas as pd\n",
    "import matplotlib.pyplot as plt\n",
    "import re\n",
    "import time\n",
    "import warnings\n",
    "import numpy as np\n",
    "from nltk.corpus import stopwords\n",
    "from sklearn.preprocessing import normalize\n",
    "from sklearn.feature_extraction.text import CountVectorizer\n",
    "from sklearn.feature_extraction.text import TfidfVectorizer\n",
    "warnings.filterwarnings(\"ignore\")\n",
    "import sys\n",
    "import os \n",
    "import pandas as pd\n",
    "import numpy as np\n",
    "from tqdm import tqdm\n",
    "import pandas as pd\n",
    "import matplotlib.pyplot as plt\n",
    "import re\n",
    "import time\n",
    "import warnings\n",
    "import sqlite3\n",
    "from sqlalchemy import create_engine # database connection\n",
    "import csv\n",
    "import os\n",
    "warnings.filterwarnings(\"ignore\")\n",
    "import datetime as dt\n",
    "import numpy as np\n",
    "from nltk.corpus import stopwords\n",
    "from sklearn.decomposition import TruncatedSVD\n",
    "from sklearn.preprocessing import normalize\n",
    "from sklearn.feature_extraction.text import CountVectorizer\n",
    "from sklearn.manifold import TSNE\n",
    "import seaborn as sns\n",
    "from sklearn.neighbors import KNeighborsClassifier\n",
    "from sklearn.metrics import confusion_matrix\n",
    "from sklearn.metrics.classification import accuracy_score, log_loss\n",
    "from sklearn.feature_extraction.text import TfidfVectorizer\n",
    "from collections import Counter\n",
    "from scipy.sparse import hstack\n",
    "from sklearn.multiclass import OneVsRestClassifier\n",
    "from sklearn.svm import SVC\n",
    "from collections import Counter, defaultdict\n",
    "from sklearn.calibration import CalibratedClassifierCV\n",
    "from sklearn.naive_bayes import MultinomialNB\n",
    "from sklearn.naive_bayes import GaussianNB\n",
    "from sklearn.model_selection import train_test_split\n",
    "from sklearn.model_selection import GridSearchCV\n",
    "import math\n",
    "from sklearn.metrics import normalized_mutual_info_score\n",
    "from sklearn.ensemble import RandomForestClassifier\n",
    "\n",
    "\n",
    "\n",
    "from sklearn.model_selection import cross_val_score\n",
    "from sklearn.linear_model import SGDClassifier\n",
    "from mlxtend.classifier import StackingClassifier\n",
    "\n",
    "from sklearn import model_selection\n",
    "from sklearn.linear_model import LogisticRegression\n",
    "from sklearn.metrics import precision_recall_curve, auc, roc_curve\n",
    "# exctract word2vec vectors\n",
    "# https://github.com/explosion/spaCy/issues/1721\n"
   ]
  },
  {
   "cell_type": "code",
   "execution_count": 0,
   "metadata": {
    "colab": {},
    "colab_type": "code",
    "id": "221RB61b1Hxr"
   },
   "outputs": [],
   "source": [
    "!pip install -U -q PyDrive\n",
    "from pydrive.auth import GoogleAuth\n",
    "from pydrive.drive import GoogleDrive\n",
    "from google.colab import auth\n",
    "from oauth2client.client import GoogleCredentials\n",
    "# Authenticate and create the PyDrive client.\n",
    "auth.authenticate_user()\n",
    "gauth = GoogleAuth()\n",
    "gauth.credentials = GoogleCredentials.get_application_default()\n",
    "drive = GoogleDrive(gauth)\n",
    "\n",
    "\n",
    "id1='1gTfCTD3fz-3NJnfYLm59nZFN3WC3fzfD'\n",
    "downloaded1 = drive.CreateFile({'id': id1})\n",
    "downloaded1.GetContentFile('df_fe_without_preprocessing_train.csv')\n",
    "\n",
    "id2='1JncN1Fyt-ND_yZXOzqEfcRsYMTKqtu7Q'\n",
    "downloaded1 = drive.CreateFile({'id': id2})\n",
    "downloaded1.GetContentFile('nlp_features_train.csv')\n",
    "\n",
    "  \n",
    "id3='10QDGTSI5PEV9e7CTpfzsXRpUwRIsJA-J'\n",
    "downloaded1 = drive.CreateFile({'id': id3})\n",
    "downloaded1.GetContentFile('train.csv')"
   ]
  },
  {
   "cell_type": "code",
   "execution_count": 9,
   "metadata": {
    "colab": {
     "base_uri": "https://localhost:8080/",
     "height": 108
    },
    "colab_type": "code",
    "executionInfo": {
     "elapsed": 2139,
     "status": "ok",
     "timestamp": 1565462954730,
     "user": {
      "displayName": "Mukesh Mishra",
      "photoUrl": "https://lh4.googleusercontent.com/-sz7NIbVC0ho/AAAAAAAAAAI/AAAAAAAADcQ/UgdGcXvpJOI/s64/photo.jpg",
      "userId": "15923203954827925545"
     },
     "user_tz": -330
    },
    "id": "2JVwHw_K3OBp",
    "outputId": "a10125e9-fc3f-49ae-fff7-34b96eba311c"
   },
   "outputs": [
    {
     "data": {
      "text/html": [
       "<div>\n",
       "<style scoped>\n",
       "    .dataframe tbody tr th:only-of-type {\n",
       "        vertical-align: middle;\n",
       "    }\n",
       "\n",
       "    .dataframe tbody tr th {\n",
       "        vertical-align: top;\n",
       "    }\n",
       "\n",
       "    .dataframe thead th {\n",
       "        text-align: right;\n",
       "    }\n",
       "</style>\n",
       "<table border=\"1\" class=\"dataframe\">\n",
       "  <thead>\n",
       "    <tr style=\"text-align: right;\">\n",
       "      <th></th>\n",
       "      <th>id</th>\n",
       "      <th>qid1</th>\n",
       "      <th>qid2</th>\n",
       "      <th>question1</th>\n",
       "      <th>question2</th>\n",
       "      <th>is_duplicate</th>\n",
       "    </tr>\n",
       "  </thead>\n",
       "  <tbody>\n",
       "    <tr>\n",
       "      <th>0</th>\n",
       "      <td>0</td>\n",
       "      <td>1</td>\n",
       "      <td>2</td>\n",
       "      <td>What is the step by step guide to invest in sh...</td>\n",
       "      <td>What is the step by step guide to invest in sh...</td>\n",
       "      <td>0</td>\n",
       "    </tr>\n",
       "    <tr>\n",
       "      <th>1</th>\n",
       "      <td>1</td>\n",
       "      <td>3</td>\n",
       "      <td>4</td>\n",
       "      <td>What is the story of Kohinoor (Koh-i-Noor) Dia...</td>\n",
       "      <td>What would happen if the Indian government sto...</td>\n",
       "      <td>0</td>\n",
       "    </tr>\n",
       "  </tbody>\n",
       "</table>\n",
       "</div>"
      ],
      "text/plain": [
       "   id  qid1  ...                                          question2 is_duplicate\n",
       "0   0     1  ...  What is the step by step guide to invest in sh...            0\n",
       "1   1     3  ...  What would happen if the Indian government sto...            0\n",
       "\n",
       "[2 rows x 6 columns]"
      ]
     },
     "execution_count": 9,
     "metadata": {
      "tags": []
     },
     "output_type": "execute_result"
    }
   ],
   "source": [
    "df = pd.read_csv(\"train.csv\")\n",
    "df.head(2)"
   ]
  },
  {
   "cell_type": "code",
   "execution_count": 0,
   "metadata": {
    "colab": {},
    "colab_type": "code",
    "id": "j5XNgVyLdMT7"
   },
   "outputs": [],
   "source": []
  },
  {
   "cell_type": "code",
   "execution_count": 0,
   "metadata": {
    "colab": {},
    "colab_type": "code",
    "id": "8M9CB3h-2iEX"
   },
   "outputs": [],
   "source": [
    "df1 = dfnlp.drop(['qid1','qid2'],axis=1)\n",
    "df2 = dfppro.drop(['qid1','qid2','question1','question2','is_duplicate'],axis=1)\n",
    "\n",
    "df=pd.merge(df1,df2,on='id',how='left')"
   ]
  },
  {
   "cell_type": "code",
   "execution_count": 0,
   "metadata": {
    "colab": {},
    "colab_type": "code",
    "id": "wQCDnEeC2jyg"
   },
   "outputs": [],
   "source": [
    "\n",
    "# ----------------- python 3 ---------------------\n",
    "df['question1'] = df['question1'].apply(lambda x: str(x))\n",
    "df['question2'] = df['question2'].apply(lambda x: str(x))"
   ]
  },
  {
   "cell_type": "code",
   "execution_count": 16,
   "metadata": {
    "colab": {
     "base_uri": "https://localhost:8080/",
     "height": 284
    },
    "colab_type": "code",
    "executionInfo": {
     "elapsed": 1127,
     "status": "ok",
     "timestamp": 1565463437158,
     "user": {
      "displayName": "Mukesh Mishra",
      "photoUrl": "https://lh4.googleusercontent.com/-sz7NIbVC0ho/AAAAAAAAAAI/AAAAAAAADcQ/UgdGcXvpJOI/s64/photo.jpg",
      "userId": "15923203954827925545"
     },
     "user_tz": -330
    },
    "id": "HbiMFpgRdMUJ",
    "outputId": "238f5d23-192f-4016-e651-a8b6bf347d75"
   },
   "outputs": [
    {
     "data": {
      "text/html": [
       "<div>\n",
       "<style scoped>\n",
       "    .dataframe tbody tr th:only-of-type {\n",
       "        vertical-align: middle;\n",
       "    }\n",
       "\n",
       "    .dataframe tbody tr th {\n",
       "        vertical-align: top;\n",
       "    }\n",
       "\n",
       "    .dataframe thead th {\n",
       "        text-align: right;\n",
       "    }\n",
       "</style>\n",
       "<table border=\"1\" class=\"dataframe\">\n",
       "  <thead>\n",
       "    <tr style=\"text-align: right;\">\n",
       "      <th></th>\n",
       "      <th>id</th>\n",
       "      <th>question1</th>\n",
       "      <th>question2</th>\n",
       "      <th>is_duplicate</th>\n",
       "      <th>cwc_min</th>\n",
       "      <th>cwc_max</th>\n",
       "      <th>csc_min</th>\n",
       "      <th>csc_max</th>\n",
       "      <th>ctc_min</th>\n",
       "      <th>ctc_max</th>\n",
       "      <th>last_word_eq</th>\n",
       "      <th>first_word_eq</th>\n",
       "      <th>abs_len_diff</th>\n",
       "      <th>mean_len</th>\n",
       "      <th>token_set_ratio</th>\n",
       "      <th>token_sort_ratio</th>\n",
       "      <th>fuzz_ratio</th>\n",
       "      <th>fuzz_partial_ratio</th>\n",
       "      <th>longest_substr_ratio</th>\n",
       "      <th>freq_qid1</th>\n",
       "      <th>freq_qid2</th>\n",
       "      <th>q1len</th>\n",
       "      <th>q2len</th>\n",
       "      <th>q1_n_words</th>\n",
       "      <th>q2_n_words</th>\n",
       "      <th>word_Common</th>\n",
       "      <th>word_Total</th>\n",
       "      <th>word_share</th>\n",
       "      <th>freq_q1+q2</th>\n",
       "      <th>freq_q1-q2</th>\n",
       "    </tr>\n",
       "  </thead>\n",
       "  <tbody>\n",
       "    <tr>\n",
       "      <th>0</th>\n",
       "      <td>0</td>\n",
       "      <td>what is the step by step guide to invest in sh...</td>\n",
       "      <td>what is the step by step guide to invest in sh...</td>\n",
       "      <td>0</td>\n",
       "      <td>0.999980</td>\n",
       "      <td>0.833319</td>\n",
       "      <td>0.999983</td>\n",
       "      <td>0.999983</td>\n",
       "      <td>0.916659</td>\n",
       "      <td>0.785709</td>\n",
       "      <td>0.0</td>\n",
       "      <td>1.0</td>\n",
       "      <td>2.0</td>\n",
       "      <td>13.0</td>\n",
       "      <td>100</td>\n",
       "      <td>93</td>\n",
       "      <td>93</td>\n",
       "      <td>100</td>\n",
       "      <td>0.982759</td>\n",
       "      <td>1</td>\n",
       "      <td>1</td>\n",
       "      <td>66</td>\n",
       "      <td>57</td>\n",
       "      <td>14</td>\n",
       "      <td>12</td>\n",
       "      <td>10.0</td>\n",
       "      <td>23.0</td>\n",
       "      <td>0.434783</td>\n",
       "      <td>2</td>\n",
       "      <td>0</td>\n",
       "    </tr>\n",
       "    <tr>\n",
       "      <th>1</th>\n",
       "      <td>1</td>\n",
       "      <td>what is the story of kohinoor  koh i noor  dia...</td>\n",
       "      <td>what would happen if the indian government sto...</td>\n",
       "      <td>0</td>\n",
       "      <td>0.799984</td>\n",
       "      <td>0.399996</td>\n",
       "      <td>0.749981</td>\n",
       "      <td>0.599988</td>\n",
       "      <td>0.699993</td>\n",
       "      <td>0.466664</td>\n",
       "      <td>0.0</td>\n",
       "      <td>1.0</td>\n",
       "      <td>5.0</td>\n",
       "      <td>12.5</td>\n",
       "      <td>86</td>\n",
       "      <td>63</td>\n",
       "      <td>66</td>\n",
       "      <td>75</td>\n",
       "      <td>0.596154</td>\n",
       "      <td>4</td>\n",
       "      <td>1</td>\n",
       "      <td>51</td>\n",
       "      <td>88</td>\n",
       "      <td>8</td>\n",
       "      <td>13</td>\n",
       "      <td>4.0</td>\n",
       "      <td>20.0</td>\n",
       "      <td>0.200000</td>\n",
       "      <td>5</td>\n",
       "      <td>3</td>\n",
       "    </tr>\n",
       "  </tbody>\n",
       "</table>\n",
       "</div>"
      ],
      "text/plain": [
       "   id  ... freq_q1-q2\n",
       "0   0  ...          0\n",
       "1   1  ...          3\n",
       "\n",
       "[2 rows x 30 columns]"
      ]
     },
     "execution_count": 16,
     "metadata": {
      "tags": []
     },
     "output_type": "execute_result"
    }
   ],
   "source": [
    "df.head(2)"
   ]
  },
  {
   "cell_type": "code",
   "execution_count": 0,
   "metadata": {
    "colab": {},
    "colab_type": "code",
    "id": "RU3HqJXwdMUj"
   },
   "outputs": [],
   "source": [
    "from sklearn.feature_extraction.text import TfidfVectorizer\n",
    "from sklearn.feature_extraction.text import CountVectorizer\n",
    "from sklearn.model_selection import train_test_split\n",
    "# merge texts\n",
    "df_train,df_test=train_test_split(df,test_size=0.2)\n",
    "#df_train,df_cv=train_test_split(df_train,test_size=0.2)\n",
    "\n",
    "questions_tr = list(df_train['question1']) + list(df_train['question2'])\n",
    "questions_te = list(df_test['question1']) + list(df_test['question2'])\n",
    "#questions_cv = list(df_cv['question1']) + list(df_cv['question2'])\n",
    "\n",
    "tfidf = TfidfVectorizer(min_df=50,lowercase=False, )\n",
    "q_tr = tfidf.fit_transform(df_train['question1'])\n",
    "q_te = tfidf.transform(df_test['question1'])\n",
    "#q_cv = tfidf.transform(df_cv['question1'])\n",
    "\n",
    "tfidf = TfidfVectorizer(min_df=50,lowercase=False, )\n",
    "q_tr1 = tfidf.fit_transform(df_train['question2'])\n",
    "q_te1 = tfidf.transform(df_test['question2'])\n",
    "#q_cv1 = tfidf.transform(df_cv['question2'])\n",
    "\n",
    "\n",
    "# dict key:word and value:tf-idf score\n",
    "word2tfidf = dict(zip(tfidf.get_feature_names(), tfidf.idf_))"
   ]
  },
  {
   "cell_type": "code",
   "execution_count": 47,
   "metadata": {
    "colab": {
     "base_uri": "https://localhost:8080/",
     "height": 54
    },
    "colab_type": "code",
    "executionInfo": {
     "elapsed": 1398,
     "status": "ok",
     "timestamp": 1565464573268,
     "user": {
      "displayName": "Mukesh Mishra",
      "photoUrl": "https://lh4.googleusercontent.com/-sz7NIbVC0ho/AAAAAAAAAAI/AAAAAAAADcQ/UgdGcXvpJOI/s64/photo.jpg",
      "userId": "15923203954827925545"
     },
     "user_tz": -330
    },
    "id": "IW3OsmdE9aVm",
    "outputId": "6c7dd646-3d2d-44d6-9b9d-bfc091be6471"
   },
   "outputs": [
    {
     "data": {
      "text/plain": [
       "<258745x4086 sparse matrix of type '<class 'numpy.float64'>'\n",
       "\twith 2336545 stored elements in Compressed Sparse Row format>"
      ]
     },
     "execution_count": 47,
     "metadata": {
      "tags": []
     },
     "output_type": "execute_result"
    }
   ],
   "source": [
    "q_tr"
   ]
  },
  {
   "cell_type": "code",
   "execution_count": 48,
   "metadata": {
    "colab": {
     "base_uri": "https://localhost:8080/",
     "height": 163
    },
    "colab_type": "code",
    "executionInfo": {
     "elapsed": 1341,
     "status": "ok",
     "timestamp": 1565464618386,
     "user": {
      "displayName": "Mukesh Mishra",
      "photoUrl": "https://lh4.googleusercontent.com/-sz7NIbVC0ho/AAAAAAAAAAI/AAAAAAAADcQ/UgdGcXvpJOI/s64/photo.jpg",
      "userId": "15923203954827925545"
     },
     "user_tz": -330
    },
    "id": "j_oQ-9kV9k5J",
    "outputId": "7ca7203e-3b11-4168-c01a-168f282c5eff"
   },
   "outputs": [
    {
     "data": {
      "text/plain": [
       "Index(['id', 'question1', 'question2', 'is_duplicate', 'cwc_min', 'cwc_max',\n",
       "       'csc_min', 'csc_max', 'ctc_min', 'ctc_max', 'last_word_eq',\n",
       "       'first_word_eq', 'abs_len_diff', 'mean_len', 'token_set_ratio',\n",
       "       'token_sort_ratio', 'fuzz_ratio', 'fuzz_partial_ratio',\n",
       "       'longest_substr_ratio', 'freq_qid1', 'freq_qid2', 'q1len', 'q2len',\n",
       "       'q1_n_words', 'q2_n_words', 'word_Common', 'word_Total', 'word_share',\n",
       "       'freq_q1+q2', 'freq_q1-q2'],\n",
       "      dtype='object')"
      ]
     },
     "execution_count": 48,
     "metadata": {
      "tags": []
     },
     "output_type": "execute_result"
    }
   ],
   "source": [
    "df_train.columns"
   ]
  },
  {
   "cell_type": "code",
   "execution_count": 57,
   "metadata": {
    "colab": {
     "base_uri": "https://localhost:8080/",
     "height": 55
    },
    "colab_type": "code",
    "executionInfo": {
     "elapsed": 2425,
     "status": "ok",
     "timestamp": 1565466067653,
     "user": {
      "displayName": "Mukesh Mishra",
      "photoUrl": "https://lh4.googleusercontent.com/-sz7NIbVC0ho/AAAAAAAAAAI/AAAAAAAADcQ/UgdGcXvpJOI/s64/photo.jpg",
      "userId": "15923203954827925545"
     },
     "user_tz": -330
    },
    "id": "KxLWJkP76eiF",
    "outputId": "b27a83c2-f99b-410b-cb6c-075cdc339a6b"
   },
   "outputs": [
    {
     "data": {
      "text/plain": [
       "\"X_cv=hstack((q_cv,q_cv1,df_cv['cwc_min'].values.reshape(-1,1),df_cv['cwc_max'].values.reshape(-1,1),df_cv['csc_min'].values.reshape(-1,1),\\n             df_cv['csc_max'].values.reshape(-1,1),df_cv['ctc_min'].values.reshape(-1,1),df_cv['ctc_max'].values.reshape(-1,1),\\n             df_cv['last_word_eq'].values.reshape(-1,1),\\n             df_cv['first_word_eq'].values.reshape(-1,1),df_cv['abs_len_diff'].values.reshape(-1,1),df_cv['mean_len'].values.reshape(-1,1),\\n             df_cv['token_set_ratio'].values.reshape(-1,1),df_cv['token_sort_ratio'].values.reshape(-1,1),df_cv['fuzz_ratio'].values.reshape(-1,1),\\n             df_cv['fuzz_partial_ratio'].values.reshape(-1,1),df_cv['longest_substr_ratio'].values.reshape(-1,1),df_cv['freq_qid1'].values.reshape(-1,1),\\n             df_cv['freq_qid2'].values.reshape(-1,1),df_cv['q1len'].values.reshape(-1,1),df_cv['q2len'].values.reshape(-1,1),\\n             df_cv['q1_n_words'].values.reshape(-1,1),df_cv['q2_n_words'].values.reshape(-1,1),df_cv['word_Common'].values.reshape(-1,1),\\n             df_cv['word_Total'].values.reshape(-1,1),df_cv['word_share'].values.reshape(-1,1),\\n            df_cv['freq_q1+q2'].values.reshape(-1,1),df_cv['freq_q1-q2'].values.reshape(-1,1) ))\\n\""
      ]
     },
     "execution_count": 57,
     "metadata": {
      "tags": []
     },
     "output_type": "execute_result"
    }
   ],
   "source": [
    "from scipy.sparse import hstack\n",
    "\n",
    "X_tr=hstack((q_tr,q_tr1,df_train['cwc_min'].values.reshape(-1,1),df_train['cwc_max'].values.reshape(-1,1),df_train['csc_min'].values.reshape(-1,1),\n",
    "             df_train['csc_max'].values.reshape(-1,1),df_train['ctc_min'].values.reshape(-1,1),df_train['ctc_max'].values.reshape(-1,1),\n",
    "             df_train['last_word_eq'].values.reshape(-1,1),\n",
    "             df_train['first_word_eq'].values.reshape(-1,1),df_train['abs_len_diff'].values.reshape(-1,1),df_train['mean_len'].values.reshape(-1,1),\n",
    "             df_train['token_set_ratio'].values.reshape(-1,1),df_train['token_sort_ratio'].values.reshape(-1,1),df_train['fuzz_ratio'].values.reshape(-1,1),\n",
    "             df_train['fuzz_partial_ratio'].values.reshape(-1,1),df_train['longest_substr_ratio'].values.reshape(-1,1),df_train['freq_qid1'].values.reshape(-1,1),\n",
    "             df_train['freq_qid2'].values.reshape(-1,1),df_train['q1len'].values.reshape(-1,1),df_train['q2len'].values.reshape(-1,1),\n",
    "             df_train['q1_n_words'].values.reshape(-1,1),df_train['q2_n_words'].values.reshape(-1,1),df_train['word_Common'].values.reshape(-1,1),\n",
    "             df_train['word_Total'].values.reshape(-1,1),df_train['word_share'].values.reshape(-1,1),\n",
    "            df_train['freq_q1+q2'].values.reshape(-1,1),df_train['freq_q1-q2'].values.reshape(-1,1) ))\n",
    "\n",
    "\n",
    "X_te=hstack((q_te,q_te1,df_test['cwc_min'].values.reshape(-1,1),df_test['cwc_max'].values.reshape(-1,1),df_test['csc_min'].values.reshape(-1,1),\n",
    "             df_test['csc_max'].values.reshape(-1,1),df_test['ctc_min'].values.reshape(-1,1),df_test['ctc_max'].values.reshape(-1,1),\n",
    "             df_test['last_word_eq'].values.reshape(-1,1),\n",
    "             df_test['first_word_eq'].values.reshape(-1,1),df_test['abs_len_diff'].values.reshape(-1,1),df_test['mean_len'].values.reshape(-1,1),\n",
    "             df_test['token_set_ratio'].values.reshape(-1,1),df_test['token_sort_ratio'].values.reshape(-1,1),df_test['fuzz_ratio'].values.reshape(-1,1),\n",
    "             df_test['fuzz_partial_ratio'].values.reshape(-1,1),df_test['longest_substr_ratio'].values.reshape(-1,1),df_test['freq_qid1'].values.reshape(-1,1),\n",
    "             df_test['freq_qid2'].values.reshape(-1,1),df_test['q1len'].values.reshape(-1,1),df_test['q2len'].values.reshape(-1,1),\n",
    "             df_test['q1_n_words'].values.reshape(-1,1),df_test['q2_n_words'].values.reshape(-1,1),df_test['word_Common'].values.reshape(-1,1),\n",
    "             df_test['word_Total'].values.reshape(-1,1),df_test['word_share'].values.reshape(-1,1),\n",
    "            df_test['freq_q1+q2'].values.reshape(-1,1),df_test['freq_q1-q2'].values.reshape(-1,1) ))\n",
    "\n",
    "\n",
    "'''X_cv=hstack((q_cv,q_cv1,df_cv['cwc_min'].values.reshape(-1,1),df_cv['cwc_max'].values.reshape(-1,1),df_cv['csc_min'].values.reshape(-1,1),\n",
    "             df_cv['csc_max'].values.reshape(-1,1),df_cv['ctc_min'].values.reshape(-1,1),df_cv['ctc_max'].values.reshape(-1,1),\n",
    "             df_cv['last_word_eq'].values.reshape(-1,1),\n",
    "             df_cv['first_word_eq'].values.reshape(-1,1),df_cv['abs_len_diff'].values.reshape(-1,1),df_cv['mean_len'].values.reshape(-1,1),\n",
    "             df_cv['token_set_ratio'].values.reshape(-1,1),df_cv['token_sort_ratio'].values.reshape(-1,1),df_cv['fuzz_ratio'].values.reshape(-1,1),\n",
    "             df_cv['fuzz_partial_ratio'].values.reshape(-1,1),df_cv['longest_substr_ratio'].values.reshape(-1,1),df_cv['freq_qid1'].values.reshape(-1,1),\n",
    "             df_cv['freq_qid2'].values.reshape(-1,1),df_cv['q1len'].values.reshape(-1,1),df_cv['q2len'].values.reshape(-1,1),\n",
    "             df_cv['q1_n_words'].values.reshape(-1,1),df_cv['q2_n_words'].values.reshape(-1,1),df_cv['word_Common'].values.reshape(-1,1),\n",
    "             df_cv['word_Total'].values.reshape(-1,1),df_cv['word_share'].values.reshape(-1,1),\n",
    "            df_cv['freq_q1+q2'].values.reshape(-1,1),df_cv['freq_q1-q2'].values.reshape(-1,1) ))\n",
    "'''"
   ]
  },
  {
   "cell_type": "code",
   "execution_count": 0,
   "metadata": {
    "colab": {},
    "colab_type": "code",
    "id": "a38GBlGWdMVQ"
   },
   "outputs": [],
   "source": [
    "#prepro_features_train.csv (Simple Preprocessing Feartures)\n",
    "#nlp_features_train.csv (NLP Features)\n",
    "if os.path.isfile('nlp_features_train.csv'):\n",
    "    dfnlp = pd.read_csv(\"nlp_features_train.csv\",encoding='latin-1')\n",
    "else:\n",
    "    print(\"download nlp_features_train.csv from drive or run previous notebook\")\n",
    "\n",
    "if os.path.isfile('df_fe_without_preprocessing_train.csv'):\n",
    "    dfppro = pd.read_csv(\"df_fe_without_preprocessing_train.csv\",encoding='latin-1')\n",
    "else:\n",
    "    print(\"download df_fe_without_preprocessing_train.csv from drive or run previous notebook\")"
   ]
  },
  {
   "cell_type": "code",
   "execution_count": 0,
   "metadata": {
    "colab": {},
    "colab_type": "code",
    "id": "HmfZ5Q1zdMWl"
   },
   "outputs": [],
   "source": [
    "# storing the final features to csv file\n",
    "if not os.path.isfile('final_features.csv'):\n",
    "    df3_q1['id']=df1['id']\n",
    "    df3_q2['id']=df1['id']\n",
    "    df1  = df1.merge(df2, on='id',how='left')\n",
    "    df2  = df3_q1.merge(df3_q2, on='id',how='left')\n",
    "    result  = df1.merge(df2, on='id',how='left')\n",
    "    result.to_csv('final_features.csv')"
   ]
  },
  {
   "cell_type": "markdown",
   "metadata": {
    "colab_type": "text",
    "id": "Y7g576BXiYcP"
   },
   "source": [
    "<h3> SVM"
   ]
  },
  {
   "cell_type": "code",
   "execution_count": 89,
   "metadata": {
    "colab": {
     "base_uri": "https://localhost:8080/",
     "height": 775
    },
    "colab_type": "code",
    "executionInfo": {
     "elapsed": 3704332,
     "status": "ok",
     "timestamp": 1565478412607,
     "user": {
      "displayName": "Mukesh Mishra",
      "photoUrl": "https://lh4.googleusercontent.com/-sz7NIbVC0ho/AAAAAAAAAAI/AAAAAAAADcQ/UgdGcXvpJOI/s64/photo.jpg",
      "userId": "15923203954827925545"
     },
     "user_tz": -330
    },
    "id": "7aThiTiHiXQF",
    "outputId": "753b93af-e60e-43e0-9190-7b0df986ee53"
   },
   "outputs": [
    {
     "name": "stdout",
     "output_type": "stream",
     "text": [
      "For values of alpha =  1e-05 The log loss is: 0.4323692514779121\n",
      "For values of alpha =  0.0001 The log loss is: 0.4437984028386029\n",
      "For values of alpha =  0.001 The log loss is: 0.45509880299785344\n",
      "For values of alpha =  0.01 The log loss is: 0.5200068012010357\n",
      "For values of alpha =  0.1 The log loss is: 0.5045066433338876\n",
      "For values of alpha =  1 The log loss is: 0.5770878901280396\n",
      "For values of alpha =  10 The log loss is: 0.6304654915396319\n"
     ]
    },
    {
     "data": {
      "image/png": "[encoded data removed]",
      "text/plain": [
       "<Figure size 432x288 with 1 Axes>"
      ]
     },
     "metadata": {
      "tags": []
     },
     "output_type": "display_data"
    },
    {
     "name": "stdout",
     "output_type": "stream",
     "text": [
      "For values of best alpha =  1e-05 The train log loss is: 0.4297692487393058\n",
      "For values of best alpha =  1e-05 The test log loss is: 0.4323692514779121\n",
      "Total number of data points : 80858\n"
     ]
    },
    {
     "data": {
      "image/png": "[encoded data removed]",
      "text/plain": [
       "<Figure size 1440x288 with 6 Axes>"
      ]
     },
     "metadata": {
      "tags": []
     },
     "output_type": "display_data"
    }
   ],
   "source": [
    "alpha = [10 ** x for x in range(-5, 2)] # hyperparam for SGD classifier.\n",
    "\n",
    "# read more about SGDClassifier() at http://scikit-learn.org/stable/modules/generated/sklearn.linear_model.SGDClassifier.html\n",
    "# ------------------------------\n",
    "# default parameters\n",
    "# SGDClassifier(loss=’hinge’, penalty=’l2’, alpha=0.0001, l1_ratio=0.15, fit_intercept=True, max_iter=None, tol=None, \n",
    "# shuffle=True, verbose=0, epsilon=0.1, n_jobs=1, random_state=None, learning_rate=’optimal’, eta0=0.0, power_t=0.5, \n",
    "# class_weight=None, warm_start=False, average=False, n_iter=None)\n",
    "\n",
    "# some of methods\n",
    "# fit(X, y[, coef_init, intercept_init, …])\tFit linear model with Stochastic Gradient Descent.\n",
    "# predict(X)\tPredict class labels for samples in X.\n",
    "\n",
    "#-------------------------------\n",
    "# video link: \n",
    "#------------------------------\n",
    "\n",
    "\n",
    "log_error_array=[]\n",
    "for i in alpha:\n",
    "    clf = SGDClassifier(alpha=i, penalty='l1', loss='hinge', random_state=42)\n",
    "    clf.fit(X_tr, y_train)\n",
    "    sig_clf = CalibratedClassifierCV(clf, method=\"sigmoid\")\n",
    "    sig_clf.fit(X_tr, y_train)\n",
    "    predict_y = sig_clf.predict_proba(X_te)\n",
    "    log_error_array.append(log_loss(y_test, predict_y, labels=clf.classes_, eps=1e-15))\n",
    "    print('For values of alpha = ', i, \"The log loss is:\",log_loss(y_test, predict_y, labels=clf.classes_, eps=1e-15))\n",
    "\n",
    "fig, ax = plt.subplots()\n",
    "ax.plot(alpha, log_error_array,c='g')\n",
    "for i, txt in enumerate(np.round(log_error_array,3)):\n",
    "    ax.annotate((alpha[i],np.round(txt,3)), (alpha[i],log_error_array[i]))\n",
    "plt.grid()\n",
    "plt.title(\"Cross Validation Error for each alpha\")\n",
    "plt.xlabel(\"Alpha i's\")\n",
    "plt.ylabel(\"Error measure\")\n",
    "plt.show()\n",
    "\n",
    "\n",
    "best_alpha = np.argmin(log_error_array)\n",
    "\n",
    "\n",
    "clf = SGDClassifier(alpha=alpha[best_alpha], penalty='l1', loss='hinge', random_state=42)\n",
    "clf.fit(X_tr, y_train)\n",
    "sig_clf = CalibratedClassifierCV(clf, method=\"sigmoid\")\n",
    "sig_clf.fit(X_tr, y_train)\n",
    "\n",
    "predict_y = sig_clf.predict_proba(X_tr)\n",
    "print('For values of best alpha = ', alpha[best_alpha], \"The train log loss is:\",log_loss(y_train, predict_y, labels=clf.classes_, eps=1e-15))\n",
    "predict_y = sig_clf.predict_proba(X_te)\n",
    "print('For values of best alpha = ', alpha[best_alpha], \"The test log loss is:\",log_loss(y_test, predict_y, labels=clf.classes_, eps=1e-15))\n",
    "predicted_y =np.argmax(predict_y,axis=1)\n",
    "print(\"Total number of data points :\", len(predicted_y))\n",
    "plot_confusion_matrix(y_test, predicted_y)"
   ]
  },
  {
   "cell_type": "markdown",
   "metadata": {
    "colab_type": "text",
    "id": "3qksVbhnibS0"
   },
   "source": [
    "<h3>LR"
   ]
  },
  {
   "cell_type": "code",
   "execution_count": 90,
   "metadata": {
    "colab": {
     "base_uri": "https://localhost:8080/",
     "height": 775
    },
    "colab_type": "code",
    "executionInfo": {
     "elapsed": 3996445,
     "status": "ok",
     "timestamp": 1565482861139,
     "user": {
      "displayName": "Mukesh Mishra",
      "photoUrl": "https://lh4.googleusercontent.com/-sz7NIbVC0ho/AAAAAAAAAAI/AAAAAAAADcQ/UgdGcXvpJOI/s64/photo.jpg",
      "userId": "15923203954827925545"
     },
     "user_tz": -330
    },
    "id": "9v3jXB1UifgI",
    "outputId": "7ca98567-2eeb-4239-ab09-9fd1401a6ab3"
   },
   "outputs": [
    {
     "name": "stdout",
     "output_type": "stream",
     "text": [
      "For values of alpha =  1e-05 The log loss is: 0.43570558551085664\n",
      "For values of alpha =  0.0001 The log loss is: 0.45674323663911326\n",
      "For values of alpha =  0.001 The log loss is: 0.46779149552751503\n",
      "For values of alpha =  0.01 The log loss is: 0.513768705169717\n",
      "For values of alpha =  0.1 The log loss is: 0.4849152464315826\n",
      "For values of alpha =  1 The log loss is: 0.5629927748856669\n",
      "For values of alpha =  10 The log loss is: 0.6278065992905404\n"
     ]
    },
    {
     "data": {
      "image/png": "[encoded data removed]",
      "text/plain": [
       "<Figure size 432x288 with 1 Axes>"
      ]
     },
     "metadata": {
      "tags": []
     },
     "output_type": "display_data"
    },
    {
     "name": "stdout",
     "output_type": "stream",
     "text": [
      "For values of best alpha =  1e-05 The train log loss is: 0.4332410448551336\n",
      "For values of best alpha =  1e-05 The test log loss is: 0.43570558551085664\n",
      "Total number of data points : 80858\n"
     ]
    },
    {
     "data": {
      "image/png": "[encoded data removed]",
      "text/plain": [
       "<Figure size 1440x288 with 6 Axes>"
      ]
     },
     "metadata": {
      "tags": []
     },
     "output_type": "display_data"
    }
   ],
   "source": [
    "alpha = [10 ** x for x in range(-5, 2)] # hyperparam for SGD classifier.\n",
    "\n",
    "# read more about SGDClassifier() at http://scikit-learn.org/stable/modules/generated/sklearn.linear_model.SGDClassifier.html\n",
    "# ------------------------------\n",
    "# default parameters\n",
    "# SGDClassifier(loss=’hinge’, penalty=’l2’, alpha=0.0001, l1_ratio=0.15, fit_intercept=True, max_iter=None, tol=None, \n",
    "# shuffle=True, verbose=0, epsilon=0.1, n_jobs=1, random_state=None, learning_rate=’optimal’, eta0=0.0, power_t=0.5, \n",
    "# class_weight=None, warm_start=False, average=False, n_iter=None)\n",
    "\n",
    "# some of methods\n",
    "# fit(X, y[, coef_init, intercept_init, …])\tFit linear model with Stochastic Gradient Descent.\n",
    "# predict(X)\tPredict class labels for samples in X.\n",
    "\n",
    "#-------------------------------\n",
    "# video link: \n",
    "#------------------------------\n",
    "\n",
    "\n",
    "log_error_array=[]\n",
    "for i in alpha:\n",
    "    clf = SGDClassifier(alpha=i, penalty='l1', loss='log', random_state=42)\n",
    "    clf.fit(X_tr, y_train)\n",
    "    sig_clf = CalibratedClassifierCV(clf, method=\"sigmoid\")\n",
    "    sig_clf.fit(X_tr, y_train)\n",
    "    predict_y = sig_clf.predict_proba(X_te)\n",
    "    log_error_array.append(log_loss(y_test, predict_y, labels=clf.classes_, eps=1e-15))\n",
    "    print('For values of alpha = ', i, \"The log loss is:\",log_loss(y_test, predict_y, labels=clf.classes_, eps=1e-15))\n",
    "\n",
    "fig, ax = plt.subplots()\n",
    "ax.plot(alpha, log_error_array,c='g')\n",
    "for i, txt in enumerate(np.round(log_error_array,3)):\n",
    "    ax.annotate((alpha[i],np.round(txt,3)), (alpha[i],log_error_array[i]))\n",
    "plt.grid()\n",
    "plt.title(\"Cross Validation Error for each alpha\")\n",
    "plt.xlabel(\"Alpha i's\")\n",
    "plt.ylabel(\"Error measure\")\n",
    "plt.show()\n",
    "\n",
    "\n",
    "best_alpha = np.argmin(log_error_array)\n",
    "\n",
    "\n",
    "clf = SGDClassifier(alpha=alpha[best_alpha], penalty='l1', loss='log', random_state=42)\n",
    "clf.fit(X_tr, y_train)\n",
    "sig_clf = CalibratedClassifierCV(clf, method=\"sigmoid\")\n",
    "sig_clf.fit(X_tr, y_train)\n",
    "\n",
    "predict_y = sig_clf.predict_proba(X_tr)\n",
    "print('For values of best alpha = ', alpha[best_alpha], \"The train log loss is:\",log_loss(y_train, predict_y, labels=clf.classes_, eps=1e-15))\n",
    "predict_y = sig_clf.predict_proba(X_te)\n",
    "print('For values of best alpha = ', alpha[best_alpha], \"The test log loss is:\",log_loss(y_test, predict_y, labels=clf.classes_, eps=1e-15))\n",
    "predicted_y =np.argmax(predict_y,axis=1)\n",
    "print(\"Total number of data points :\", len(predicted_y))\n",
    "plot_confusion_matrix(y_test, predicted_y)"
   ]
  },
  {
   "cell_type": "markdown",
   "metadata": {
    "colab_type": "text",
    "id": "tj5JWSyfrNJ7"
   },
   "source": [
    "<h3>XGBoost"
   ]
  },
  {
   "cell_type": "code",
   "execution_count": 64,
   "metadata": {
    "colab": {
     "base_uri": "https://localhost:8080/",
     "height": 599
    },
    "colab_type": "code",
    "executionInfo": {
     "elapsed": 3864495,
     "status": "ok",
     "timestamp": 1565470926983,
     "user": {
      "displayName": "Mukesh Mishra",
      "photoUrl": "https://lh4.googleusercontent.com/-sz7NIbVC0ho/AAAAAAAAAAI/AAAAAAAADcQ/UgdGcXvpJOI/s64/photo.jpg",
      "userId": "15923203954827925545"
     },
     "user_tz": -330
    },
    "id": "V1-3TJaWCcu3",
    "outputId": "a9b5e782-c323-4cdd-96b5-d905f6ecf81a"
   },
   "outputs": [
    {
     "name": "stdout",
     "output_type": "stream",
     "text": [
      "Fitting 2 folds for each of 10 candidates, totalling 20 fits\n"
     ]
    },
    {
     "name": "stderr",
     "output_type": "stream",
     "text": [
      "[Parallel(n_jobs=15)]: Using backend LokyBackend with 15 concurrent workers.\n",
      "[Parallel(n_jobs=15)]: Done   3 out of  20 | elapsed:  2.5min remaining: 14.2min\n",
      "[Parallel(n_jobs=15)]: Done   6 out of  20 | elapsed: 22.6min remaining: 52.7min\n",
      "[Parallel(n_jobs=15)]: Done   9 out of  20 | elapsed: 27.9min remaining: 34.1min\n",
      "[Parallel(n_jobs=15)]: Done  12 out of  20 | elapsed: 30.7min remaining: 20.5min\n",
      "[Parallel(n_jobs=15)]: Done  15 out of  20 | elapsed: 43.6min remaining: 14.5min\n",
      "[Parallel(n_jobs=15)]: Done  18 out of  20 | elapsed: 53.5min remaining:  5.9min\n",
      "[Parallel(n_jobs=15)]: Done  20 out of  20 | elapsed: 55.5min finished\n"
     ]
    },
    {
     "data": {
      "text/plain": [
       "RandomizedSearchCV(cv=2, error_score='raise-deprecating',\n",
       "                   estimator=XGBClassifier(base_score=0.5, booster='gbtree',\n",
       "                                           colsample_bylevel=1,\n",
       "                                           colsample_bynode=1,\n",
       "                                           colsample_bytree=1, gamma=0,\n",
       "                                           learning_rate=0.1, max_delta_step=0,\n",
       "                                           max_depth=3, min_child_weight=1,\n",
       "                                           missing=None, n_estimators=100,\n",
       "                                           n_jobs=1, nthread=None,\n",
       "                                           objective='binary:logistic',\n",
       "                                           random_state=0, reg_alpha=0,\n",
       "                                           reg_lambda=1, scale_pos_weight=1,\n",
       "                                           seed=None, silent=None, subsample=1,\n",
       "                                           verbosity=1),\n",
       "                   iid='warn', n_iter=10, n_jobs=15,\n",
       "                   param_distributions={'colsample_bytree': [0.1, 0.5, 1],\n",
       "                                        'learning_rate': [0.01, 0.1, 0.2],\n",
       "                                        'max_depth': [3, 5, 8],\n",
       "                                        'n_estimators': [100, 500, 1000],\n",
       "                                        'subsample': [0.1, 0.5, 1]},\n",
       "                   pre_dispatch='2*n_jobs', random_state=None, refit=True,\n",
       "                   return_train_score=False, scoring='neg_log_loss',\n",
       "                   verbose=10)"
      ]
     },
     "execution_count": 64,
     "metadata": {
      "tags": []
     },
     "output_type": "execute_result"
    }
   ],
   "source": [
    "import xgboost as xgb\n",
    "from sklearn.model_selection import RandomizedSearchCV\n",
    "\n",
    "y_train=df_train['is_duplicate']\n",
    "y_test=df_test['is_duplicate']\n",
    "\n",
    "\n",
    "x_cfl=xgb.XGBClassifier()\n",
    "\n",
    "prams={\n",
    "    'learning_rate':[0.01,0.1,0.2],\n",
    "     'n_estimators':[100,500,1000],\n",
    "     'max_depth':[3,5,8],\n",
    "    'colsample_bytree':[0.1,0.5,1],\n",
    "    'subsample':[0.1,0.5,1]\n",
    "}\n",
    "random_cfl1=RandomizedSearchCV(x_cfl,param_distributions=prams,scoring='neg_log_loss',cv=2,verbose=10,n_jobs=15)\n",
    "random_cfl1.fit(X_tr,y_train)"
   ]
  },
  {
   "cell_type": "code",
   "execution_count": 66,
   "metadata": {
    "colab": {
     "base_uri": "https://localhost:8080/",
     "height": 35
    },
    "colab_type": "code",
    "executionInfo": {
     "elapsed": 1452,
     "status": "ok",
     "timestamp": 1565471496498,
     "user": {
      "displayName": "Mukesh Mishra",
      "photoUrl": "https://lh4.googleusercontent.com/-sz7NIbVC0ho/AAAAAAAAAAI/AAAAAAAADcQ/UgdGcXvpJOI/s64/photo.jpg",
      "userId": "15923203954827925545"
     },
     "user_tz": -330
    },
    "id": "f7mXldVdDLFY",
    "outputId": "7898e2ed-1f10-4cef-8596-0e19f0b4333c"
   },
   "outputs": [
    {
     "name": "stdout",
     "output_type": "stream",
     "text": [
      "{'subsample': 0.5, 'n_estimators': 1000, 'max_depth': 8, 'learning_rate': 0.1, 'colsample_bytree': 0.1}\n"
     ]
    }
   ],
   "source": [
    "print (random_cfl1.best_params_)"
   ]
  },
  {
   "cell_type": "code",
   "execution_count": 0,
   "metadata": {
    "colab": {},
    "colab_type": "code",
    "id": "S0fimhpYYQzG"
   },
   "outputs": [],
   "source": [
    "from sklearn.calibration import CalibratedClassifierCV\n",
    "\n",
    "cfl=xgb.XGBClassifier(n_estimators=1000,subsample=0.5,learning_rate=0.1,colsample_bytree=0.1,max_depth=8)\n",
    "cfl.fit(X_tr,y_train)\n",
    "c_cfl=CalibratedClassifierCV(x_cfl,method='sigmoid')\n",
    "c_cfl.fit(X_tr,y_train)\n",
    "\n",
    "predict_y = c_cfl.predict_proba(X_tr)\n",
    "\n",
    "\n"
   ]
  },
  {
   "cell_type": "code",
   "execution_count": 77,
   "metadata": {
    "colab": {
     "base_uri": "https://localhost:8080/",
     "height": 54
    },
    "colab_type": "code",
    "executionInfo": {
     "elapsed": 6336,
     "status": "ok",
     "timestamp": 1565473751786,
     "user": {
      "displayName": "Mukesh Mishra",
      "photoUrl": "https://lh4.googleusercontent.com/-sz7NIbVC0ho/AAAAAAAAAAI/AAAAAAAADcQ/UgdGcXvpJOI/s64/photo.jpg",
      "userId": "15923203954827925545"
     },
     "user_tz": -330
    },
    "id": "nkFwvOV7gHK3",
    "outputId": "6306ba77-fced-49a9-be6b-266ed0c3a13b",
    "scrolled": true
   },
   "outputs": [
    {
     "name": "stdout",
     "output_type": "stream",
     "text": [
      "train loss 0.3669491681853815\n",
      "test loss 0.3645488421244572\n"
     ]
    }
   ],
   "source": [
    "print ('train loss',log_loss(y_train, predict_y))\n",
    "\n",
    "\n",
    "predict_y = c_cfl.predict_proba(X_te)\n",
    "print ('test loss',log_loss(y_test, predict_y))"
   ]
  },
  {
   "cell_type": "code",
   "execution_count": 85,
   "metadata": {
    "colab": {
     "base_uri": "https://localhost:8080/",
     "height": 145
    },
    "colab_type": "code",
    "executionInfo": {
     "elapsed": 1425,
     "status": "ok",
     "timestamp": 1565474106025,
     "user": {
      "displayName": "Mukesh Mishra",
      "photoUrl": "https://lh4.googleusercontent.com/-sz7NIbVC0ho/AAAAAAAAAAI/AAAAAAAADcQ/UgdGcXvpJOI/s64/photo.jpg",
      "userId": "15923203954827925545"
     },
     "user_tz": -330
    },
    "id": "P8KDCEidhFXy",
    "outputId": "57fd30e1-de4f-47a6-c048-08d99954d733"
   },
   "outputs": [
    {
     "data": {
      "text/plain": [
       "array([[1, 0],\n",
       "       [0, 1],\n",
       "       [1, 0],\n",
       "       ...,\n",
       "       [0, 1],\n",
       "       [0, 1],\n",
       "       [1, 0]])"
      ]
     },
     "execution_count": 85,
     "metadata": {
      "tags": []
     },
     "output_type": "execute_result"
    }
   ],
   "source": [
    "predicted_y"
   ]
  },
  {
   "cell_type": "code",
   "execution_count": 88,
   "metadata": {
    "colab": {
     "base_uri": "https://localhost:8080/",
     "height": 315
    },
    "colab_type": "code",
    "executionInfo": {
     "elapsed": 1929,
     "status": "ok",
     "timestamp": 1565474166285,
     "user": {
      "displayName": "Mukesh Mishra",
      "photoUrl": "https://lh4.googleusercontent.com/-sz7NIbVC0ho/AAAAAAAAAAI/AAAAAAAADcQ/UgdGcXvpJOI/s64/photo.jpg",
      "userId": "15923203954827925545"
     },
     "user_tz": -330
    },
    "id": "SVg9KJRUZER0",
    "outputId": "c0079d13-c6c7-4253-bf8d-d5e1d8c210df"
   },
   "outputs": [
    {
     "data": {
      "image/png": "[encoded data removed]",
      "text/plain": [
       "<Figure size 1440x288 with 6 Axes>"
      ]
     },
     "metadata": {
      "tags": []
     },
     "output_type": "display_data"
    }
   ],
   "source": [
    "#y_test = list(map(int, y_test.values))\n",
    "predicted_y =np.array(predict_y>0.5,dtype=int)\n",
    "plot_confusion_matrix(y_test, predicted_y[:,1])"
   ]
  },
  {
   "cell_type": "code",
   "execution_count": 0,
   "metadata": {
    "colab": {},
    "colab_type": "code",
    "id": "alnFpWOPDbNP"
   },
   "outputs": [],
   "source": [
    "# This function plots the confusion matrices given y_i, y_i_hat.\n",
    "def plot_confusion_matrix(test_y, predict_y):\n",
    "    C = confusion_matrix(test_y, predict_y)\n",
    "    # C = 9,9 matrix, each cell (i,j) represents number of points of class i are predicted class j\n",
    "    \n",
    "    A =(((C.T)/(C.sum(axis=1))).T)\n",
    "    #divid each element of the confusion matrix with the sum of elements in that column\n",
    "    \n",
    "    # C = [[1, 2],\n",
    "    #     [3, 4]]\n",
    "    # C.T = [[1, 3],\n",
    "    #        [2, 4]]\n",
    "    # C.sum(axis = 1)  axis=0 corresonds to columns and axis=1 corresponds to rows in two diamensional array\n",
    "    # C.sum(axix =1) = [[3, 7]]\n",
    "    # ((C.T)/(C.sum(axis=1))) = [[1/3, 3/7]\n",
    "    #                           [2/3, 4/7]]\n",
    "\n",
    "    # ((C.T)/(C.sum(axis=1))).T = [[1/3, 2/3]\n",
    "    #                           [3/7, 4/7]]\n",
    "    # sum of row elements = 1\n",
    "    \n",
    "    B =(C/C.sum(axis=0))\n",
    "    #divid each element of the confusion matrix with the sum of elements in that row\n",
    "    # C = [[1, 2],\n",
    "    #     [3, 4]]\n",
    "    # C.sum(axis = 0)  axis=0 corresonds to columns and axis=1 corresponds to rows in two diamensional array\n",
    "    # C.sum(axix =0) = [[4, 6]]\n",
    "    # (C/C.sum(axis=0)) = [[1/4, 2/6],\n",
    "    #                      [3/4, 4/6]] \n",
    "    plt.figure(figsize=(20,4))\n",
    "    \n",
    "    labels = [1,2]\n",
    "    # representing A in heatmap format\n",
    "    cmap=sns.light_palette(\"blue\")\n",
    "    plt.subplot(1, 3, 1)\n",
    "    sns.heatmap(C, annot=True, cmap=cmap, fmt=\".3f\", xticklabels=labels, yticklabels=labels)\n",
    "    plt.xlabel('Predicted Class')\n",
    "    plt.ylabel('Original Class')\n",
    "    plt.title(\"Confusion matrix\")\n",
    "    \n",
    "    plt.subplot(1, 3, 2)\n",
    "    sns.heatmap(B, annot=True, cmap=cmap, fmt=\".3f\", xticklabels=labels, yticklabels=labels)\n",
    "    plt.xlabel('Predicted Class')\n",
    "    plt.ylabel('Original Class')\n",
    "    plt.title(\"Precision matrix\")\n",
    "    \n",
    "    plt.subplot(1, 3, 3)\n",
    "    # representing B in heatmap format\n",
    "    sns.heatmap(A, annot=True, cmap=cmap, fmt=\".3f\", xticklabels=labels, yticklabels=labels)\n",
    "    plt.xlabel('Predicted Class')\n",
    "    plt.ylabel('Original Class')\n",
    "    plt.title(\"Recall matrix\")\n",
    "    \n",
    "    plt.show()"
   ]
  },
  {
   "cell_type": "markdown",
   "metadata": {
    "colab_type": "text",
    "id": "jUkj6iZ-Fipi"
   },
   "source": [
    "<h3>Conclusion"
   ]
  },
  {
   "cell_type": "code",
   "execution_count": 2,
   "metadata": {
    "colab": {},
    "colab_type": "code",
    "id": "LLtOuc5nYPQE"
   },
   "outputs": [
    {
     "name": "stdout",
     "output_type": "stream",
     "text": [
      "+---------------------+--------------------+---------------------+\n",
      "|      Algorithm      |   Train LogLoss    |     Test LogLoss    |\n",
      "+---------------------+--------------------+---------------------+\n",
      "|         SVM         | 0.4297692487393058 |  0.4323692514779121 |\n",
      "| Logistic Regression | 0.4332410448551336 | 0.43570558551085664 |\n",
      "|       XGBoost       | 0.3669491681853815 |  0.3645488421244572 |\n",
      "+---------------------+--------------------+---------------------+\n"
     ]
    }
   ],
   "source": [
    "from prettytable import PrettyTable\n",
    "    \n",
    "x = PrettyTable()\n",
    "\n",
    "x.field_names = [\"Algorithm\", \"Train LogLoss\", \"Test LogLoss\"]\n",
    "\n",
    "x.add_row([\"SVM\", 0.4297692487393058,  0.4323692514779121])\n",
    "x.add_row([\"Logistic Regression\", 0.4332410448551336, 0.43570558551085664])\n",
    "x.add_row([\"XGBoost\", 0.3669491681853815, 0.3645488421244572])\n",
    "\n",
    "print(x)"
   ]
  },
  {
   "cell_type": "code",
   "execution_count": null,
   "metadata": {},
   "outputs": [],
   "source": []
  }
 ],
 "metadata": {
  "colab": {
   "collapsed_sections": [],
   "name": "Copy of 3.Q_Mean_W2V.ipynb",
   "provenance": [
    {
     "file_id": "1UIKqDRvSXUiu5lk6AyNbdEtFclvb7um2",
     "timestamp": 1565500317744
    }
   ],
   "version": "0.3.2"
  },
  "kernelspec": {
   "display_name": "Python 3",
   "language": "python",
   "name": "python3"
  },
  "language_info": {
   "codemirror_mode": {
    "name": "ipython",
    "version": 3
   },
   "file_extension": ".py",
   "mimetype": "text/x-python",
   "name": "python",
   "nbconvert_exporter": "python",
   "pygments_lexer": "ipython3",
   "version": "3.6.5"
  }
 },
 "nbformat": 4,
 "nbformat_minor": 1
}
